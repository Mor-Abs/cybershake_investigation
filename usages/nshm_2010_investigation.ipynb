{
 "cells": [
  {
   "cell_type": "code",
   "execution_count": 1,
   "metadata": {},
   "outputs": [
    {
     "data": {
      "text/plain": [
       "'\\nInvestigating basic charachteristics of the NSHM2010\\n'"
      ]
     },
     "execution_count": 1,
     "metadata": {},
     "output_type": "execute_result"
    }
   ],
   "source": [
    "'''\n",
    "Investigating basic charachteristics of the NSHM2010\n",
    "'''"
   ]
  },
  {
   "cell_type": "markdown",
   "metadata": {},
   "source": [
    "# Import the dependencies"
   ]
  },
  {
   "cell_type": "code",
   "execution_count": 2,
   "metadata": {},
   "outputs": [],
   "source": [
    "import os\n",
    "\n",
    "import numpy as np\n",
    "import pandas as pd\n",
    "import qcore.nhm as nhm\n",
    "\n",
    "import matplotlib.pyplot as plt"
   ]
  },
  {
   "cell_type": "markdown",
   "metadata": {},
   "source": [
    "# Path and directory works"
   ]
  },
  {
   "cell_type": "code",
   "execution_count": 3,
   "metadata": {},
   "outputs": [],
   "source": [
    "root_path = os.getcwd()\n",
    "\n",
    "base_dir = \"/mnt/hypo_data/mab419/mab419_cybershake_investigation/base_data\"  # dpath to dirctory of base data\n",
    "\n",
    "# File names of the stations data\n",
    "stations_ll = \"non_uniform_whole_nz_with_real_stations-hh400_v20p3_land.ll\"\n",
    "stations_vs30 = \"non_uniform_whole_nz_with_real_stations-hh400_v20p3_land.vs30\"\n",
    "stations_z = \"non_uniform_whole_nz_with_real_stations-hh400_v20p3_land.z\"\n",
    "nz_flt_erf = \"NZ_FLTmodel_2010.txt\" # NSHM 2010 Fault ERF model\n",
    "site_source_db = \"new_flt_site_source.db\"  # 'Fault-Site-Source' database\n",
    "\n",
    "fault_erf_ffp = os.path.join(base_dir, nz_flt_erf)"
   ]
  },
  {
   "cell_type": "markdown",
   "metadata": {},
   "source": [
    "# Plot Major Setting"
   ]
  },
  {
   "cell_type": "code",
   "execution_count": 4,
   "metadata": {},
   "outputs": [],
   "source": [
    "plt.rcParams.update(\n",
    "    {\n",
    "        \"font.size\": 8,  # General font size\n",
    "        \"font.family\": \"serif\",  # Font family (e.g., serif, sans-serif, monospace)\n",
    "        \"axes.titlesize\": 10,  # Title font size\n",
    "        \"axes.labelsize\": 8,  # Axis label font size\n",
    "        \"xtick.labelsize\": 6,  # X-axis tick font size\n",
    "        \"ytick.labelsize\": 6,  # Y-axis tick font size\n",
    "        \"legend.fontsize\": 6,  # Legend font size\n",
    "    }\n",
    ")"
   ]
  },
  {
   "cell_type": "markdown",
   "metadata": {},
   "source": [
    "# Load Fault ERF Data"
   ]
  },
  {
   "cell_type": "code",
   "execution_count": 5,
   "metadata": {},
   "outputs": [],
   "source": [
    "flt_erf_df = nhm.load_nhm_df(str(fault_erf_ffp))"
   ]
  },
  {
   "cell_type": "markdown",
   "metadata": {},
   "source": [
    "# Investigate Fault ERFF"
   ]
  },
  {
   "cell_type": "markdown",
   "metadata": {},
   "source": [
    "## Number of Faults"
   ]
  },
  {
   "cell_type": "code",
   "execution_count": 6,
   "metadata": {},
   "outputs": [
    {
     "name": "stdout",
     "output_type": "stream",
     "text": [
      "Total number of Faults: 536\n"
     ]
    }
   ],
   "source": [
    "print(f'Total number of Faults: {len(flt_erf_df)}')\n"
   ]
  },
  {
   "cell_type": "code",
   "execution_count": 7,
   "metadata": {},
   "outputs": [
    {
     "data": {
      "image/png": "[encoded data removed]",
      "text/plain": [
       "<Figure size 393.701x354.331 with 1 Axes>"
      ]
     },
     "metadata": {},
     "output_type": "display_data"
    },
    {
     "data": {
      "text/html": [
       "<div>\n",
       "<style scoped>\n",
       "    .dataframe tbody tr th:only-of-type {\n",
       "        vertical-align: middle;\n",
       "    }\n",
       "\n",
       "    .dataframe tbody tr th {\n",
       "        vertical-align: top;\n",
       "    }\n",
       "\n",
       "    .dataframe thead th {\n",
       "        text-align: right;\n",
       "    }\n",
       "</style>\n",
       "<table border=\"1\" class=\"dataframe\">\n",
       "  <thead>\n",
       "    <tr style=\"text-align: right;\">\n",
       "      <th></th>\n",
       "      <th>tectonic_type</th>\n",
       "      <th>Count</th>\n",
       "    </tr>\n",
       "  </thead>\n",
       "  <tbody>\n",
       "    <tr>\n",
       "      <th>0</th>\n",
       "      <td>ACTIVE_SHALLOW</td>\n",
       "      <td>332</td>\n",
       "    </tr>\n",
       "    <tr>\n",
       "      <th>1</th>\n",
       "      <td>SUBDUCTION_INTERFACE</td>\n",
       "      <td>8</td>\n",
       "    </tr>\n",
       "    <tr>\n",
       "      <th>2</th>\n",
       "      <td>VOLCANIC</td>\n",
       "      <td>196</td>\n",
       "    </tr>\n",
       "  </tbody>\n",
       "</table>\n",
       "</div>"
      ],
      "text/plain": [
       "          tectonic_type  Count\n",
       "0        ACTIVE_SHALLOW    332\n",
       "1  SUBDUCTION_INTERFACE      8\n",
       "2              VOLCANIC    196"
      ]
     },
     "execution_count": 7,
     "metadata": {},
     "output_type": "execute_result"
    }
   ],
   "source": [
    "pivot_df = flt_erf_df.pivot_table(\n",
    "    index=\"tectonic_type\", aggfunc=\"size\", margins=False\n",
    ").reset_index(name=\"Count\")\n",
    "\n",
    "\n",
    "fig, ax = plt.subplots(figsize=(10 / 2.54, 9 / 2.54))\n",
    "colors = [\n",
    "    \"#26547c\",\n",
    "    \"#ffd166\",\n",
    "    \"#ef476f\",\n",
    "]\n",
    "ax.pie(\n",
    "    pivot_df[\"Count\"],\n",
    "    labels=pivot_df[\"tectonic_type\"],\n",
    "    autopct=\"%1.1f%%\",\n",
    "    startangle=90,\n",
    "    colors=colors,\n",
    "    wedgeprops={\"edgecolor\": \"black\"},\n",
    ")\n",
    "ax.set_title(\"Distribution of Tectonic Types\")\n",
    "plt.tight_layout()\n",
    "plt.show()\n",
    "\n",
    "pivot_df"
   ]
  },
  {
   "cell_type": "markdown",
   "metadata": {},
   "source": [
    "## Depth"
   ]
  },
  {
   "cell_type": "code",
   "execution_count": 8,
   "metadata": {},
   "outputs": [
    {
     "data": {
      "image/png": "[encoded data removed]",
      "text/plain": [
       "<Figure size 314.961x236.22 with 1 Axes>"
      ]
     },
     "metadata": {},
     "output_type": "display_data"
    }
   ],
   "source": [
    "fig, ax =plt.subplots(figsize=(8/2.54, 6/2.54))\n",
    "ax.hist(flt_erf_df[\"dbottom\"], bins=10, color=\"steelblue\", edgecolor=\"black\")\n",
    "ax.set_title('Histogram of Bottom Depth')\n",
    "ax.set_xlabel('Depth (m)')\n",
    "ax.set_ylabel('Frequency')\n",
    "fig.text(\n",
    "    0.73,\n",
    "    0.85,\n",
    "    f\"Min: {flt_erf_df['dbottom'].min():.2f} \\nMax: {flt_erf_df['dbottom'].max():.2f} \\nMedian: {flt_erf_df['dbottom'].median():.2f}\",\n",
    "    ha=\"left\",\n",
    "    va=\"top\",\n",
    "    fontsize=7,\n",
    "    wrap=True,\n",
    ")\n",
    "plt.tight_layout()\n",
    "plt.show()"
   ]
  },
  {
   "cell_type": "code",
   "execution_count": 9,
   "metadata": {},
   "outputs": [
    {
     "data": {
      "image/png": "[encoded data removed]",
      "text/plain": [
       "<Figure size 314.961x236.22 with 1 Axes>"
      ]
     },
     "metadata": {},
     "output_type": "display_data"
    }
   ],
   "source": [
    "fig, ax = plt.subplots(figsize=(8 / 2.54, 6 / 2.54))\n",
    "ax.hist(flt_erf_df[\"dtop\"], bins=10, color=\"steelblue\", edgecolor=\"black\")\n",
    "ax.set_title(\"Histogram of Top Depth\")\n",
    "ax.set_xlabel(\"Depth (m)\")\n",
    "ax.set_ylabel(\"Frequency\")\n",
    "fig.text(\n",
    "    0.73,\n",
    "    0.85,\n",
    "    f\"Min: {flt_erf_df['dtop'].min():.2f} \\nMax: {flt_erf_df['dtop'].max():.2f} \\nMedian: {flt_erf_df['dtop'].median():.2f}\",\n",
    "    ha=\"left\",\n",
    "    va=\"top\",\n",
    "    fontsize=7,\n",
    "    wrap=True,\n",
    ")\n",
    "plt.tight_layout()\n",
    "plt.show()"
   ]
  },
  {
   "cell_type": "markdown",
   "metadata": {},
   "source": [
    "## Length"
   ]
  },
  {
   "cell_type": "code",
   "execution_count": 10,
   "metadata": {},
   "outputs": [
    {
     "data": {
      "image/png": "[encoded data removed]",
      "text/plain": [
       "<Figure size 314.961x236.22 with 1 Axes>"
      ]
     },
     "metadata": {},
     "output_type": "display_data"
    }
   ],
   "source": [
    "fig, ax = plt.subplots(figsize=(8 / 2.54, 6 / 2.54))\n",
    "ax.hist(flt_erf_df[\"length\"], bins=20, color=\"steelblue\", edgecolor=\"black\")\n",
    "ax.set_title(\"Histogram of Length\")\n",
    "ax.set_xlabel(\"Length (m)\")\n",
    "ax.set_ylabel(\"Frequency\")\n",
    "fig.text(\n",
    "    0.73,\n",
    "    0.85,\n",
    "    f\"Min: {flt_erf_df['length'].min():.2f} \\nMax: {flt_erf_df['length'].max():.2f} \\nMedian: {flt_erf_df['length'].median():.2f}\",\n",
    "    ha=\"left\",\n",
    "    va=\"top\",\n",
    "    fontsize=7,\n",
    "    wrap=True,\n",
    ")\n",
    "plt.tight_layout()\n",
    "plt.show()"
   ]
  },
  {
   "cell_type": "markdown",
   "metadata": {},
   "source": [
    "## Magnitude"
   ]
  },
  {
   "cell_type": "code",
   "execution_count": 11,
   "metadata": {},
   "outputs": [
    {
     "data": {
      "image/png": "[encoded data removed]",
      "text/plain": [
       "<Figure size 314.961x236.22 with 1 Axes>"
      ]
     },
     "metadata": {},
     "output_type": "display_data"
    }
   ],
   "source": [
    "fig, ax = plt.subplots(figsize=(8 / 2.54, 6 / 2.54))\n",
    "ax.hist(flt_erf_df[\"mw\"], bins=10, color=\"steelblue\", edgecolor=\"black\")\n",
    "ax.set_title(\"Histogram of Maximum Magnitude\")\n",
    "ax.set_xlabel(\"Mw\")\n",
    "ax.set_ylabel(\"Frequency\")\n",
    "fig.text(\n",
    "    0.74,\n",
    "    0.85,\n",
    "    f\"Min: {flt_erf_df['mw'].min():.2f} \\nMax: {flt_erf_df['mw'].max():.2f} \\nMedian: {flt_erf_df['mw'].median():.2f}\",\n",
    "    ha=\"left\",\n",
    "    va=\"top\",\n",
    "    fontsize=7,\n",
    "    wrap=True,\n",
    ")\n",
    "plt.tight_layout()\n",
    "plt.show()"
   ]
  },
  {
   "cell_type": "markdown",
   "metadata": {},
   "source": [
    "## Recurrence Interval"
   ]
  },
  {
   "cell_type": "code",
   "execution_count": 12,
   "metadata": {},
   "outputs": [
    {
     "data": {
      "image/png": "[encoded data removed]",
      "text/plain": [
       "<Figure size 314.961x236.22 with 1 Axes>"
      ]
     },
     "metadata": {},
     "output_type": "display_data"
    }
   ],
   "source": [
    "fig, ax = plt.subplots(figsize=(8 / 2.54, 6 / 2.54))\n",
    "bins = np.logspace(np.log10(100), np.log10(400000), 20)\n",
    "ax.hist(flt_erf_df[\"recur_int_median\"], bins=bins, color=\"steelblue\", edgecolor=\"black\")\n",
    "ax.set_xscale(\"log\")\n",
    "ax.set_title(\"Histogram of Recurrence Interval\")\n",
    "ax.set_xlabel(\"Recurrence Interval (Year)\")\n",
    "ax.set_ylabel(\"Frequency\")\n",
    "fig.text(\n",
    "    0.74,\n",
    "    0.85,\n",
    "    f\"Min: {flt_erf_df['recur_int_median'].min():.0f} \\nMax: {flt_erf_df['recur_int_median'].max():.0f} \\nMedian: {flt_erf_df['recur_int_median'].median():.0f}\",\n",
    "    ha=\"left\",\n",
    "    va=\"top\",\n",
    "    fontsize=7,\n",
    "    wrap=True,\n",
    ")\n",
    "plt.tight_layout()\n",
    "plt.show()"
   ]
  },
  {
   "cell_type": "markdown",
   "metadata": {},
   "source": [
    "## Exceedance Rate"
   ]
  },
  {
   "cell_type": "code",
   "execution_count": 50,
   "metadata": {},
   "outputs": [
    {
     "data": {
      "image/png": "[encoded data removed]",
      "text/plain": [
       "<Figure size 314.961x236.22 with 1 Axes>"
      ]
     },
     "metadata": {},
     "output_type": "display_data"
    }
   ],
   "source": [
    "fig, ax = plt.subplots(figsize=(8 / 2.54, 6 / 2.54))\n",
    "bins = np.logspace(np.log10(0.00001), np.log10(0.1), 20)\n",
    "ax.hist(flt_erf_df[\"exceedance\"], bins=bins, color=\"steelblue\", edgecolor=\"black\")\n",
    "ax.set_xscale(\"log\")\n",
    "ax.set_title(\"Histogram of Exceedance Rate\")\n",
    "ax.set_xlabel(\"Exceedance (1/Year)\")\n",
    "ax.set_ylabel(\"Frequency\")\n",
    "fig.text(\n",
    "    0.65,\n",
    "    0.85,\n",
    "    f\"Min: {flt_erf_df['exceedance'].min():.7f} \\nMax: {flt_erf_df['exceedance'].max():.6f} \\nMedian: {flt_erf_df['exceedance'].median():.6f}\",\n",
    "    ha=\"left\",\n",
    "    va=\"top\",\n",
    "    fontsize=7,\n",
    "    wrap=True,\n",
    ")\n",
    "plt.tight_layout()\n",
    "plt.show()"
   ]
  },
  {
   "cell_type": "code",
   "execution_count": 13,
   "metadata": {},
   "outputs": [
    {
     "data": {
      "text/html": [
       "<div>\n",
       "<style scoped>\n",
       "    .dataframe tbody tr th:only-of-type {\n",
       "        vertical-align: middle;\n",
       "    }\n",
       "\n",
       "    .dataframe tbody tr th {\n",
       "        vertical-align: top;\n",
       "    }\n",
       "\n",
       "    .dataframe thead th {\n",
       "        text-align: right;\n",
       "    }\n",
       "</style>\n",
       "<table border=\"1\" class=\"dataframe\">\n",
       "  <thead>\n",
       "    <tr style=\"text-align: right;\">\n",
       "      <th></th>\n",
       "      <th>name</th>\n",
       "      <th>tectonic_type</th>\n",
       "      <th>length</th>\n",
       "      <th>length_sigma</th>\n",
       "      <th>dip</th>\n",
       "      <th>dip_sigma</th>\n",
       "      <th>dip_dir</th>\n",
       "      <th>rake</th>\n",
       "      <th>dbottom</th>\n",
       "      <th>dbottom_sigma</th>\n",
       "      <th>dtop</th>\n",
       "      <th>dtop_min</th>\n",
       "      <th>dtop_max</th>\n",
       "      <th>slip_rate</th>\n",
       "      <th>slip_rate_sigma</th>\n",
       "      <th>coupling_coeff</th>\n",
       "      <th>coupling_coeff_sigma</th>\n",
       "      <th>mw</th>\n",
       "      <th>recur_int_median</th>\n",
       "      <th>exceedance</th>\n",
       "    </tr>\n",
       "  </thead>\n",
       "  <tbody>\n",
       "    <tr>\n",
       "      <th>AhuririR</th>\n",
       "      <td>AhuririR</td>\n",
       "      <td>ACTIVE_SHALLOW</td>\n",
       "      <td>44.000</td>\n",
       "      <td>6.600</td>\n",
       "      <td>45.0</td>\n",
       "      <td>5.0</td>\n",
       "      <td>280.0</td>\n",
       "      <td>90.0</td>\n",
       "      <td>12.0</td>\n",
       "      <td>1.0</td>\n",
       "      <td>0.0</td>\n",
       "      <td>0.0</td>\n",
       "      <td>1.0</td>\n",
       "      <td>0.500</td>\n",
       "      <td>0.100</td>\n",
       "      <td>1.0</td>\n",
       "      <td>0.0</td>\n",
       "      <td>7.19</td>\n",
       "      <td>6130.0</td>\n",
       "      <td>0.000163</td>\n",
       "    </tr>\n",
       "    <tr>\n",
       "      <th>AkaOtaki</th>\n",
       "      <td>AkaOtaki</td>\n",
       "      <td>ACTIVE_SHALLOW</td>\n",
       "      <td>68.000</td>\n",
       "      <td>10.200</td>\n",
       "      <td>75.0</td>\n",
       "      <td>5.0</td>\n",
       "      <td>145.0</td>\n",
       "      <td>45.0</td>\n",
       "      <td>20.0</td>\n",
       "      <td>1.0</td>\n",
       "      <td>0.0</td>\n",
       "      <td>0.0</td>\n",
       "      <td>1.0</td>\n",
       "      <td>0.700</td>\n",
       "      <td>0.140</td>\n",
       "      <td>1.0</td>\n",
       "      <td>0.0</td>\n",
       "      <td>7.50</td>\n",
       "      <td>6770.0</td>\n",
       "      <td>0.000148</td>\n",
       "    </tr>\n",
       "    <tr>\n",
       "      <th>Akatore</th>\n",
       "      <td>Akatore</td>\n",
       "      <td>ACTIVE_SHALLOW</td>\n",
       "      <td>65.000</td>\n",
       "      <td>9.750</td>\n",
       "      <td>45.0</td>\n",
       "      <td>5.0</td>\n",
       "      <td>120.0</td>\n",
       "      <td>90.0</td>\n",
       "      <td>12.0</td>\n",
       "      <td>1.0</td>\n",
       "      <td>0.0</td>\n",
       "      <td>0.0</td>\n",
       "      <td>1.0</td>\n",
       "      <td>1.300</td>\n",
       "      <td>0.260</td>\n",
       "      <td>1.0</td>\n",
       "      <td>0.0</td>\n",
       "      <td>7.42</td>\n",
       "      <td>3480.0</td>\n",
       "      <td>0.000287</td>\n",
       "    </tr>\n",
       "    <tr>\n",
       "      <th>Albury</th>\n",
       "      <td>Albury</td>\n",
       "      <td>ACTIVE_SHALLOW</td>\n",
       "      <td>20.000</td>\n",
       "      <td>3.000</td>\n",
       "      <td>60.0</td>\n",
       "      <td>5.0</td>\n",
       "      <td>245.0</td>\n",
       "      <td>90.0</td>\n",
       "      <td>12.0</td>\n",
       "      <td>1.0</td>\n",
       "      <td>0.0</td>\n",
       "      <td>0.0</td>\n",
       "      <td>1.0</td>\n",
       "      <td>0.130</td>\n",
       "      <td>0.026</td>\n",
       "      <td>1.0</td>\n",
       "      <td>0.0</td>\n",
       "      <td>6.68</td>\n",
       "      <td>10700.0</td>\n",
       "      <td>0.000093</td>\n",
       "    </tr>\n",
       "    <tr>\n",
       "      <th>AldermanE01</th>\n",
       "      <td>AldermanE01</td>\n",
       "      <td>VOLCANIC</td>\n",
       "      <td>9.719</td>\n",
       "      <td>1.458</td>\n",
       "      <td>50.0</td>\n",
       "      <td>5.0</td>\n",
       "      <td>290.0</td>\n",
       "      <td>-90.0</td>\n",
       "      <td>12.0</td>\n",
       "      <td>1.0</td>\n",
       "      <td>0.0</td>\n",
       "      <td>0.0</td>\n",
       "      <td>1.0</td>\n",
       "      <td>0.199</td>\n",
       "      <td>0.040</td>\n",
       "      <td>1.0</td>\n",
       "      <td>0.0</td>\n",
       "      <td>6.11</td>\n",
       "      <td>1830.0</td>\n",
       "      <td>0.000546</td>\n",
       "    </tr>\n",
       "    <tr>\n",
       "      <th>...</th>\n",
       "      <td>...</td>\n",
       "      <td>...</td>\n",
       "      <td>...</td>\n",
       "      <td>...</td>\n",
       "      <td>...</td>\n",
       "      <td>...</td>\n",
       "      <td>...</td>\n",
       "      <td>...</td>\n",
       "      <td>...</td>\n",
       "      <td>...</td>\n",
       "      <td>...</td>\n",
       "      <td>...</td>\n",
       "      <td>...</td>\n",
       "      <td>...</td>\n",
       "      <td>...</td>\n",
       "      <td>...</td>\n",
       "      <td>...</td>\n",
       "      <td>...</td>\n",
       "      <td>...</td>\n",
       "      <td>...</td>\n",
       "    </tr>\n",
       "    <tr>\n",
       "      <th>WhiteIsN01</th>\n",
       "      <td>WhiteIsN01</td>\n",
       "      <td>VOLCANIC</td>\n",
       "      <td>19.772</td>\n",
       "      <td>2.966</td>\n",
       "      <td>50.0</td>\n",
       "      <td>5.0</td>\n",
       "      <td>300.0</td>\n",
       "      <td>-90.0</td>\n",
       "      <td>8.0</td>\n",
       "      <td>1.0</td>\n",
       "      <td>0.0</td>\n",
       "      <td>0.0</td>\n",
       "      <td>1.0</td>\n",
       "      <td>0.124</td>\n",
       "      <td>0.025</td>\n",
       "      <td>1.0</td>\n",
       "      <td>0.0</td>\n",
       "      <td>6.52</td>\n",
       "      <td>8880.0</td>\n",
       "      <td>0.000113</td>\n",
       "    </tr>\n",
       "    <tr>\n",
       "      <th>WhiteIsn02</th>\n",
       "      <td>WhiteIsn02</td>\n",
       "      <td>VOLCANIC</td>\n",
       "      <td>9.571</td>\n",
       "      <td>1.436</td>\n",
       "      <td>50.0</td>\n",
       "      <td>5.0</td>\n",
       "      <td>340.0</td>\n",
       "      <td>-90.0</td>\n",
       "      <td>8.0</td>\n",
       "      <td>1.0</td>\n",
       "      <td>0.0</td>\n",
       "      <td>0.0</td>\n",
       "      <td>1.0</td>\n",
       "      <td>0.124</td>\n",
       "      <td>0.025</td>\n",
       "      <td>1.0</td>\n",
       "      <td>0.0</td>\n",
       "      <td>6.10</td>\n",
       "      <td>4320.0</td>\n",
       "      <td>0.000231</td>\n",
       "    </tr>\n",
       "    <tr>\n",
       "      <th>Whitemans</th>\n",
       "      <td>Whitemans</td>\n",
       "      <td>ACTIVE_SHALLOW</td>\n",
       "      <td>28.000</td>\n",
       "      <td>4.200</td>\n",
       "      <td>60.0</td>\n",
       "      <td>5.0</td>\n",
       "      <td>300.0</td>\n",
       "      <td>90.0</td>\n",
       "      <td>20.0</td>\n",
       "      <td>1.0</td>\n",
       "      <td>0.0</td>\n",
       "      <td>0.0</td>\n",
       "      <td>1.0</td>\n",
       "      <td>0.100</td>\n",
       "      <td>0.020</td>\n",
       "      <td>1.0</td>\n",
       "      <td>0.0</td>\n",
       "      <td>7.02</td>\n",
       "      <td>19500.0</td>\n",
       "      <td>0.000051</td>\n",
       "    </tr>\n",
       "    <tr>\n",
       "      <th>Wkm-1</th>\n",
       "      <td>Wkm-1</td>\n",
       "      <td>ACTIVE_SHALLOW</td>\n",
       "      <td>15.000</td>\n",
       "      <td>2.250</td>\n",
       "      <td>70.0</td>\n",
       "      <td>5.0</td>\n",
       "      <td>300.0</td>\n",
       "      <td>-45.0</td>\n",
       "      <td>15.0</td>\n",
       "      <td>1.0</td>\n",
       "      <td>0.0</td>\n",
       "      <td>0.0</td>\n",
       "      <td>1.0</td>\n",
       "      <td>2.300</td>\n",
       "      <td>0.460</td>\n",
       "      <td>1.0</td>\n",
       "      <td>0.0</td>\n",
       "      <td>6.55</td>\n",
       "      <td>454.0</td>\n",
       "      <td>0.002203</td>\n",
       "    </tr>\n",
       "    <tr>\n",
       "      <th>Woodville</th>\n",
       "      <td>Woodville</td>\n",
       "      <td>ACTIVE_SHALLOW</td>\n",
       "      <td>14.000</td>\n",
       "      <td>2.100</td>\n",
       "      <td>70.0</td>\n",
       "      <td>5.0</td>\n",
       "      <td>300.0</td>\n",
       "      <td>45.0</td>\n",
       "      <td>15.0</td>\n",
       "      <td>1.0</td>\n",
       "      <td>0.0</td>\n",
       "      <td>0.0</td>\n",
       "      <td>1.0</td>\n",
       "      <td>0.200</td>\n",
       "      <td>0.040</td>\n",
       "      <td>1.0</td>\n",
       "      <td>0.0</td>\n",
       "      <td>6.51</td>\n",
       "      <td>4880.0</td>\n",
       "      <td>0.000205</td>\n",
       "    </tr>\n",
       "  </tbody>\n",
       "</table>\n",
       "<p>536 rows × 20 columns</p>\n",
       "</div>"
      ],
      "text/plain": [
       "                    name   tectonic_type  length  length_sigma   dip  \\\n",
       "AhuririR        AhuririR  ACTIVE_SHALLOW  44.000         6.600  45.0   \n",
       "AkaOtaki        AkaOtaki  ACTIVE_SHALLOW  68.000        10.200  75.0   \n",
       "Akatore          Akatore  ACTIVE_SHALLOW  65.000         9.750  45.0   \n",
       "Albury            Albury  ACTIVE_SHALLOW  20.000         3.000  60.0   \n",
       "AldermanE01  AldermanE01        VOLCANIC   9.719         1.458  50.0   \n",
       "...                  ...             ...     ...           ...   ...   \n",
       "WhiteIsN01    WhiteIsN01        VOLCANIC  19.772         2.966  50.0   \n",
       "WhiteIsn02    WhiteIsn02        VOLCANIC   9.571         1.436  50.0   \n",
       "Whitemans      Whitemans  ACTIVE_SHALLOW  28.000         4.200  60.0   \n",
       "Wkm-1              Wkm-1  ACTIVE_SHALLOW  15.000         2.250  70.0   \n",
       "Woodville      Woodville  ACTIVE_SHALLOW  14.000         2.100  70.0   \n",
       "\n",
       "             dip_sigma  dip_dir  rake  dbottom  dbottom_sigma  dtop  dtop_min  \\\n",
       "AhuririR           5.0    280.0  90.0     12.0            1.0   0.0       0.0   \n",
       "AkaOtaki           5.0    145.0  45.0     20.0            1.0   0.0       0.0   \n",
       "Akatore            5.0    120.0  90.0     12.0            1.0   0.0       0.0   \n",
       "Albury             5.0    245.0  90.0     12.0            1.0   0.0       0.0   \n",
       "AldermanE01        5.0    290.0 -90.0     12.0            1.0   0.0       0.0   \n",
       "...                ...      ...   ...      ...            ...   ...       ...   \n",
       "WhiteIsN01         5.0    300.0 -90.0      8.0            1.0   0.0       0.0   \n",
       "WhiteIsn02         5.0    340.0 -90.0      8.0            1.0   0.0       0.0   \n",
       "Whitemans          5.0    300.0  90.0     20.0            1.0   0.0       0.0   \n",
       "Wkm-1              5.0    300.0 -45.0     15.0            1.0   0.0       0.0   \n",
       "Woodville          5.0    300.0  45.0     15.0            1.0   0.0       0.0   \n",
       "\n",
       "             dtop_max  slip_rate  slip_rate_sigma  coupling_coeff  \\\n",
       "AhuririR          1.0      0.500            0.100             1.0   \n",
       "AkaOtaki          1.0      0.700            0.140             1.0   \n",
       "Akatore           1.0      1.300            0.260             1.0   \n",
       "Albury            1.0      0.130            0.026             1.0   \n",
       "AldermanE01       1.0      0.199            0.040             1.0   \n",
       "...               ...        ...              ...             ...   \n",
       "WhiteIsN01        1.0      0.124            0.025             1.0   \n",
       "WhiteIsn02        1.0      0.124            0.025             1.0   \n",
       "Whitemans         1.0      0.100            0.020             1.0   \n",
       "Wkm-1             1.0      2.300            0.460             1.0   \n",
       "Woodville         1.0      0.200            0.040             1.0   \n",
       "\n",
       "             coupling_coeff_sigma    mw  recur_int_median  exceedance  \n",
       "AhuririR                      0.0  7.19            6130.0    0.000163  \n",
       "AkaOtaki                      0.0  7.50            6770.0    0.000148  \n",
       "Akatore                       0.0  7.42            3480.0    0.000287  \n",
       "Albury                        0.0  6.68           10700.0    0.000093  \n",
       "AldermanE01                   0.0  6.11            1830.0    0.000546  \n",
       "...                           ...   ...               ...         ...  \n",
       "WhiteIsN01                    0.0  6.52            8880.0    0.000113  \n",
       "WhiteIsn02                    0.0  6.10            4320.0    0.000231  \n",
       "Whitemans                     0.0  7.02           19500.0    0.000051  \n",
       "Wkm-1                         0.0  6.55             454.0    0.002203  \n",
       "Woodville                     0.0  6.51            4880.0    0.000205  \n",
       "\n",
       "[536 rows x 20 columns]"
      ]
     },
     "execution_count": 13,
     "metadata": {},
     "output_type": "execute_result"
    }
   ],
   "source": [
    "flt_erf_df"
   ]
  },
  {
   "cell_type": "code",
   "execution_count": 35,
   "metadata": {},
   "outputs": [
    {
     "data": {
      "image/png": "[encoded data removed]",
      "text/plain": [
       "<Figure size 314.961x236.22 with 1 Axes>"
      ]
     },
     "metadata": {},
     "output_type": "display_data"
    }
   ],
   "source": [
    "temp_df = flt_erf_df[[\"name\", \"mw\", \"exceedance\"]].copy()\n",
    "temp_df[\"mw_bin\"] = temp_df[\"mw\"].round(1)\n",
    "temp_df2 = temp_df.groupby(\"mw_bin\")[\"exceedance\"].mean().reset_index()\n",
    "\n",
    "fig, ax = plt.subplots(figsize=(8 / 2.54, 6 / 2.54))\n",
    "ax.scatter(temp_df2[\"mw_bin\"], temp_df2[\"exceedance\"])\n",
    "ax.set_yscale('log')"
   ]
  },
  {
   "cell_type": "code",
   "execution_count": null,
   "metadata": {},
   "outputs": [],
   "source": []
  }
 ],
 "metadata": {
  "kernelspec": {
   "display_name": "morteza",
   "language": "python",
   "name": "python3"
  },
  "language_info": {
   "codemirror_mode": {
    "name": "ipython",
    "version": 3
   },
   "file_extension": ".py",
   "mimetype": "text/x-python",
   "name": "python",
   "nbconvert_exporter": "python",
   "pygments_lexer": "ipython3",
   "version": "3.12.3"
  }
 },
 "nbformat": 4,
 "nbformat_minor": 2
}
