{
 "cells": [
  {
   "cell_type": "code",
   "execution_count": 1,
   "metadata": {},
   "outputs": [],
   "source": [
    "import os\n",
    "from pathlib import Path\n",
    "\n",
    "import pandas as pd"
   ]
  },
  {
   "cell_type": "code",
   "execution_count": 5,
   "metadata": {},
   "outputs": [],
   "source": [
    "sim_dir = \"/mnt/hypo_data/mab419/Cybershake_Data\"\n",
    "data_version = \"combined_v20p4_v20p5\""
   ]
  },
  {
   "cell_type": "code",
   "execution_count": 6,
   "metadata": {},
   "outputs": [],
   "source": [
    "for fault_path in Path(os.path.join(sim_dir, data_version)).iterdir():\n",
    "    if fault_path.is_dir():  # Ensure it's a directory\n",
    "        im_folder = fault_path / \"IM\"\n",
    "        if im_folder.exists():  # Ensure the \"IM\" folder exists\n",
    "            for rel_file in im_folder.glob(\n",
    "                \"*REL*.csv\"\n",
    "            ):  # Find all CSVs with \"REL\" in name\n",
    "                tempdf = pd.read_csv(rel_file)\n",
    "\n",
    "                # Rename columns that start with \"pSA\"\n",
    "                tempdf.rename(\n",
    "                    columns={\n",
    "                        col: col[:5] + col[5:].replace(\"p\", \".\", 1)\n",
    "                        for col in tempdf.columns\n",
    "                        if col.startswith(\"pSA\")\n",
    "                    },\n",
    "                    inplace=True,\n",
    "                )\n",
    "\n",
    "                # Save back to the same file\n",
    "                tempdf.to_csv(rel_file, index=False)\n"
   ]
  }
 ],
 "metadata": {
  "kernelspec": {
   "display_name": "morteza",
   "language": "python",
   "name": "python3"
  },
  "language_info": {
   "codemirror_mode": {
    "name": "ipython",
    "version": 3
   },
   "file_extension": ".py",
   "mimetype": "text/x-python",
   "name": "python",
   "nbconvert_exporter": "python",
   "pygments_lexer": "ipython3",
   "version": "3.12.8"
  }
 },
 "nbformat": 4,
 "nbformat_minor": 2
}
