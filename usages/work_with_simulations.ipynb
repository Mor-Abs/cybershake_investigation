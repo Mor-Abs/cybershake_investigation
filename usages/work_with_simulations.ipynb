{
 "cells": [
  {
   "cell_type": "code",
   "execution_count": 1,
   "metadata": {},
   "outputs": [
    {
     "name": "stderr",
     "output_type": "stream",
     "text": [
      "/mnt/hypo_data/mab419/cybershake_investigation/utils/seismic_hazard_analysis/site_source.py:960: NumbaTypeSafetyWarning: unsafe cast from uint64 to int64. Precision may be lost.\n",
      "  scenario_section_ids[i],\n"
     ]
    }
   ],
   "source": [
    "import os\n",
    "import sys\n",
    "from pathlib import Path\n",
    "import pickle\n",
    "import shutil\n",
    "from typing import Sequence\n",
    "\n",
    "import numpy as np\n",
    "import pandas as pd\n",
    "import matplotlib.pyplot as plt\n",
    "import xarray as xr\n",
    "\n",
    "sys.path.append(str(Path.cwd().parent))\n",
    "\n",
    "from utils import util\n",
    "from utils import seismic_hazard_analysis as sha\n",
    "from qcore import nhm\n",
    "from qcore import coordinates as coords\n",
    "from empirical.util.classdef import TectType, GMM\n",
    "\n",
    "\n",
    "from concurrent.futures import ThreadPoolExecutor"
   ]
  },
  {
   "cell_type": "code",
   "execution_count": 2,
   "metadata": {},
   "outputs": [],
   "source": [
    "root_path = os.getcwd()\n",
    "\n",
    "data_version = \"combined_v20p6_v24p8_v20p9_v24p9\"\n",
    "sim_dir = (\n",
    "    f\"/mnt/hypo_data/mab419/Cybershake_Data/{data_version}\"  # dpath to simulation data\n",
    ")\n",
    "sim_pickle_dir = f\"/mnt/hypo_data/mab419/Cybershake_Data_Pickle/{data_version}\"  # dpath to hazard calculation data\n",
    "emp_dir = f\"/mnt/hypo_data/mab419/Empirical_Data/{data_version}\"  # dpath to emirical calculation data\n",
    "base_dir = \"/mnt/hypo_data/mab419/cybershake_investigation/base_data\"  # dpath to dirctory of base data\n",
    "\n",
    "# File names of the stations data\n",
    "station_files = {\n",
    "    \"stations_ll\": \"non_uniform_whole_nz_with_real_stations-hh400_v20p3_land.ll\",\n",
    "    \"stations_vs30\": \"non_uniform_whole_nz_with_real_stations-hh400_v20p3_land.vs30\",\n",
    "    \"stations_z\": \"non_uniform_whole_nz_with_real_stations-hh400_v20p3_land.z\",\n",
    "}\n",
    "\n",
    "fault_erf_ffp = os.path.join(\n",
    "    base_dir, \"NZ_FLTmodel_2010.txt\"\n",
    ")  # dpath to NZ fault model\n",
    "background_ffp = os.path.join(\n",
    "    base_dir, \"NZBCK2015_Chch50yearsAftershock_OpenSHA_modType4.txt\"\n",
    ")  # dpath to background seismicity\n",
    "ds_erf_ffp = os.path.join(base_dir, \"NZ_DSmodel_2015.txt\")  # dpath to DS erf\n",
    "\n",
    "background_ffp = os.path.join(\n",
    "    base_dir, \"NZBCK211_OpenSHA.txt\"\n",
    ")  # dpath to background seismicity\n",
    "ds_erf_ffp = os.path.join(base_dir, \"NZ_DSmodel_2010.txt\")  # dpath to DS erf"
   ]
  },
  {
   "cell_type": "code",
   "execution_count": 3,
   "metadata": {},
   "outputs": [
    {
     "name": "stdout",
     "output_type": "stream",
     "text": [
      "Dictionary loaded successfully\n"
     ]
    }
   ],
   "source": [
    "file_name = \"Cybershake_fault_im_data.pkl\"\n",
    "file_path = os.path.join(sim_pickle_dir, file_name)\n",
    "with open(file_path, \"rb\") as file:\n",
    "    fault_im_data = pickle.load(file)\n",
    "\n",
    "print(\"Dictionary loaded successfully\")"
   ]
  },
  {
   "cell_type": "code",
   "execution_count": null,
   "metadata": {},
   "outputs": [],
   "source": []
  }
 ],
 "metadata": {
  "kernelspec": {
   "display_name": "morteza",
   "language": "python",
   "name": "python3"
  },
  "language_info": {
   "codemirror_mode": {
    "name": "ipython",
    "version": 3
   },
   "file_extension": ".py",
   "mimetype": "text/x-python",
   "name": "python",
   "nbconvert_exporter": "python",
   "pygments_lexer": "ipython3",
   "version": "3.12.8"
  }
 },
 "nbformat": 4,
 "nbformat_minor": 2
}
